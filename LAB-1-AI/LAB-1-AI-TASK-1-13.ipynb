{
 "cells": [
  {
   "cell_type": "code",
   "execution_count": 2,
   "metadata": {},
   "outputs": [
    {
     "name": "stdout",
     "output_type": "stream",
     "text": [
      "Result: 13\n"
     ]
    }
   ],
   "source": [
    "# Task 1: Write a script that take user input for a number then adds 3 to that number. Then multiplies the result by 2, subtract 4, \n",
    "# then again adds 3, then print the result.\n",
    "number = int(input(\"Enter a number: \"))\n",
    "result = ((number + 3) * 2 - 4) + 3\n",
    "print(\"Result:\", result)"
   ]
  },
  {
   "cell_type": "code",
   "execution_count": 3,
   "metadata": {},
   "outputs": [
    {
     "name": "stdout",
     "output_type": "stream",
     "text": [
      "Celsius: 50.0, Fahrenheit: 122.0\n"
     ]
    }
   ],
   "source": [
    "# Task 2: Write a script that takes input as Celsius and then convert Celsius to Fahrenheit.\n",
    "celsius = float(input(\"Enter temperature in Celsius: \"))\n",
    "fahrenheit = (celsius * 1.8) + 32\n",
    "print(f\"Celsius: {celsius}, Fahrenheit: {fahrenheit}\")\n"
   ]
  },
  {
   "cell_type": "code",
   "execution_count": 4,
   "metadata": {},
   "outputs": [
    {
     "name": "stdout",
     "output_type": "stream",
     "text": [
      "Area of the circle is: 1256.6370614359173\n"
     ]
    }
   ],
   "source": [
    "# Task 3: Write a script that takes input as radius then calculate area of circle.\n",
    "import math\n",
    "radius = float(input(\"Enter radius of circle: \"))\n",
    "area = math.pi * radius ** 2\n",
    "print(f\"Area of the circle is: {area}\")\n"
   ]
  },
  {
   "cell_type": "code",
   "execution_count": 7,
   "metadata": {},
   "outputs": [
    {
     "name": "stdout",
     "output_type": "stream",
     "text": [
      "blueblueblueblueblueblueblueblueblueblue\n",
      "blue                                blue\n",
      "blueblueblueblueblueblueblueblueblueblue\n"
     ]
    }
   ],
   "source": [
    "# Task 4: Write a Python script that asks users for their favourite color and create a patterned output.\n",
    "color = input(\"Enter your favorite color: \")\n",
    "print(color * 10)\n",
    "print(color + \"    \"*8 + color)\n",
    "print(color * 10)\n"
   ]
  },
  {
   "cell_type": "code",
   "execution_count": 8,
   "metadata": {},
   "outputs": [
    {
     "name": "stdout",
     "output_type": "stream",
     "text": [
      "Original name with whitespace:\n",
      "\t\n",
      "   Subhan Akhter   \n",
      "\t\n",
      "\n",
      "Name with lstrip():\n",
      "Subhan Akhter   \n",
      "\t\n",
      "\n",
      "Name with rstrip():\n",
      "\t\n",
      "   Subhan Akhter\n",
      "\n",
      "Name with strip():\n",
      "Subhan Akhter\n"
     ]
    }
   ],
   "source": [
    "# Task 5: Store a person’s name with whitespace and strip the whitespaces using strip(), lstrip(), rstrip().\n",
    "name = \"\\t\\n   Subhan Akhter   \\n\\t\"\n",
    "print(\"Original name with whitespace:\")\n",
    "print(name)\n",
    "print(\"\\nName with lstrip():\")\n",
    "print(name.lstrip())\n",
    "print(\"\\nName with rstrip():\")\n",
    "print(name.rstrip())\n",
    "print(\"\\nName with strip():\")\n",
    "print(name.strip())\n"
   ]
  },
  {
   "cell_type": "code",
   "execution_count": 9,
   "metadata": {},
   "outputs": [
    {
     "name": "stdout",
     "output_type": "stream",
     "text": [
      "5 x 1 = 5\n",
      "5 x 2 = 10\n",
      "5 x 3 = 15\n",
      "5 x 4 = 20\n",
      "5 x 5 = 25\n",
      "5 x 6 = 30\n",
      "5 x 7 = 35\n",
      "5 x 8 = 40\n",
      "5 x 9 = 45\n",
      "5 x 10 = 50\n"
     ]
    }
   ],
   "source": [
    "# Task 6: Write a python script that takes a user input to create the multiplication table of that number.\n",
    "number = int(input(\"Enter a number for the multiplication table: \"))\n",
    "for i in range(1, 11):\n",
    "    print(f\"{number} x {i} = {number * i}\")\n"
   ]
  },
  {
   "cell_type": "code",
   "execution_count": 10,
   "metadata": {},
   "outputs": [
    {
     "name": "stdout",
     "output_type": "stream",
     "text": [
      "Islamabad is in Pakistan.\n",
      "Lahore is in Pakistan.\n",
      "New York is in USA.\n"
     ]
    }
   ],
   "source": [
    "# Task 7: Write a function called describe_city() that accepts the name of a city and its country.\n",
    "def describe_city(city, country=\"Pakistan\"):\n",
    "    print(f\"{city} is in {country}.\")\n",
    "\n",
    "describe_city(\"Islamabad\")\n",
    "describe_city(\"Lahore\")\n",
    "describe_city(\"New York\", \"USA\")\n"
   ]
  },
  {
   "cell_type": "code",
   "execution_count": 15,
   "metadata": {},
   "outputs": [
    {
     "name": "stdout",
     "output_type": "stream",
     "text": [
      "number given:  -5\n",
      "Absolute value is: 5\n"
     ]
    }
   ],
   "source": [
    "# Task 8: Write a function called absolute_num() that accepts one parameter and returns the absolute value.\n",
    "def absolute_num(num):\n",
    "    if num < 0:\n",
    "        return -num\n",
    "    return num\n",
    "\n",
    "number = int(input(\"Enter a number: \"))\n",
    "print(\"number given: \",number) \n",
    "print(\"Absolute value is:\", absolute_num(number))\n"
   ]
  },
  {
   "cell_type": "code",
   "execution_count": 22,
   "metadata": {},
   "outputs": [
    {
     "name": "stdout",
     "output_type": "stream",
     "text": [
      "i is a vowel.\n"
     ]
    }
   ],
   "source": [
    "# Task 9: Write Python Program to check whether an alphabet is a vowel or consonant.\n",
    "char = input(\"Enter an alphabet: \").lower()\n",
    "\n",
    "if char in 'aeiou':\n",
    "    print(f\"{char} is a vowel.\")\n",
    "else:\n",
    "    print(f\"{char} is a consonant.\")\n"
   ]
  },
  {
   "cell_type": "code",
   "execution_count": 25,
   "metadata": {},
   "outputs": [
    {
     "name": "stdout",
     "output_type": "stream",
     "text": [
      "9 is not a prime number.\n"
     ]
    }
   ],
   "source": [
    "# Task 10: Write a Python program to check whether a number is prime or not.\n",
    "number = int(input(\"Enter a number: \"))\n",
    "if number > 1:\n",
    "    for i in range(2, number):\n",
    "        if number % i == 0:\n",
    "            print(f\"{number} is not a prime number.\")\n",
    "            break\n",
    "    else:\n",
    "        print(f\"{number} is a prime number.\")\n",
    "else:\n",
    "    print(f\"{number} is not a prime number.\")\n"
   ]
  },
  {
   "cell_type": "code",
   "execution_count": 19,
   "metadata": {},
   "outputs": [
    {
     "name": "stdout",
     "output_type": "stream",
     "text": [
      "0\n",
      "1\n",
      "2\n",
      "4\n",
      "5\n"
     ]
    }
   ],
   "source": [
    "# Task 11: Write a Python program that prints all the numbers from 0 to 6 except 3 and 6.\n",
    "for i in range(7):\n",
    "    if i == 3 or i == 6:\n",
    "        continue\n",
    "    print(i)\n"
   ]
  },
  {
   "cell_type": "code",
   "execution_count": 20,
   "metadata": {},
   "outputs": [
    {
     "name": "stdout",
     "output_type": "stream",
     "text": [
      "1 \n",
      "2 2 \n",
      "3 3 3 \n",
      "4 4 4 4 \n",
      "5 5 5 5 5 \n"
     ]
    }
   ],
   "source": [
    "# Task 12: Write a Python program to construct the following pattern using a nested loop.\n",
    "for i in range(1, 6):\n",
    "    for j in range(i):\n",
    "        print(i, end=\" \")\n",
    "    print()\n"
   ]
  },
  {
   "cell_type": "code",
   "execution_count": 30,
   "metadata": {},
   "outputs": [
    {
     "name": "stdout",
     "output_type": "stream",
     "text": [
      "The person is a teenager.\n"
     ]
    }
   ],
   "source": [
    "# Task 13: Write an if-elif-else chain that determines a person’s stage of life based on age.\n",
    "age = int(input(\"Enter the age: \"))\n",
    "\n",
    "if age <= 3:\n",
    "    print(\"The person is a baby.\")\n",
    "elif age >= 4 and age < 13:\n",
    "    print(\"The person is a kid.\")\n",
    "elif age >= 13 and age < 20:\n",
    "    print(\"The person is a teenager.\")\n",
    "elif age >= 20 and age < 65:\n",
    "    print(\"The person is an adult.\")\n",
    "else:\n",
    "    print(\"The person is an elder.\")\n"
   ]
  }
 ],
 "metadata": {
  "kernelspec": {
   "display_name": "Python 3",
   "language": "python",
   "name": "python3"
  },
  "language_info": {
   "codemirror_mode": {
    "name": "ipython",
    "version": 3
   },
   "file_extension": ".py",
   "mimetype": "text/x-python",
   "name": "python",
   "nbconvert_exporter": "python",
   "pygments_lexer": "ipython3",
   "version": "3.12.5"
  }
 },
 "nbformat": 4,
 "nbformat_minor": 2
}
